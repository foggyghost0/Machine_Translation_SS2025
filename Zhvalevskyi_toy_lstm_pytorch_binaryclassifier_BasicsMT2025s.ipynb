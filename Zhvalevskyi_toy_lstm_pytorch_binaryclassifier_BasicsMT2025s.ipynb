{
  "cells": [
    {
      "cell_type": "code",
      "execution_count": 2,
      "metadata": {
        "colab": {
          "base_uri": "https://localhost:8080/"
        },
        "id": "WSEZpJgvew2h",
        "outputId": "50652698-af23-4515-ba15-956d46bac045"
      },
      "outputs": [
        {
          "name": "stdout",
          "output_type": "stream",
          "text": [
            "torch.Size([1000, 250, 100])\n",
            "torch.Size([1000, 1])\n"
          ]
        }
      ],
      "source": [
        "# Import necessary libraries for building and training the model\n",
        "import torch  # PyTorch library for tensor operations and deep learning\n",
        "import torch.nn as nn  # Submodule for defining neural network layers\n",
        "import torch.optim as optim  # Submodule for optimization algorithms\n",
        "import numpy as np  # NumPy library for numerical operations\n",
        "# Import library for plotting and visualizing data\n",
        "import matplotlib.pyplot as plt  # Used for creating plots\n",
        "\n",
        "# Uncomment the following lines to set a random seed for reproducibility\n",
        "torch.manual_seed(42)  # Sets the seed for PyTorch random number generation\n",
        "#import numpy as np  # NumPy library for numerical operations\n",
        "np.random.seed(42)  # Sets the seed for NumPy random number generation\n",
        "\n",
        "# Create synthetic data for binary classification\n",
        "# Generate 500 instances of negative class data with random values\n",
        "X1 = torch.randn(500, 250, 100)  # Shape: [500 instances, 250 time steps, 100 features]\n",
        "# Generate 500 instances of positive class data with random values shifted by 1.5\n",
        "X2 = torch.randn(500, 250, 100) + 1.5  # Shape: [500 instances, 250 time steps, 100 features]\n",
        "# Combine both classes into a single dataset\n",
        "X = torch.cat([X1, X2], dim=0)  # Concatenate along the instance dimension (0)\n",
        "# Create labels for the negative class (0)\n",
        "Y1 = torch.zeros(500, 1)  # Shape: [500 instances, 1 label]\n",
        "# Create labels for the positive class (1)\n",
        "Y2 = torch.ones(500, 1)  # Shape: [500 instances, 1 label]\n",
        "# Combine both labels into a single label tensor\n",
        "Y = torch.cat([Y1, Y2], dim=0)  # Concatenate along the instance dimension (0)\n",
        "\n",
        "# Print the shape of the input data tensor\n",
        "print(X.size())  # Expected output: [1000 instances, 250 time steps, 100 features]\n",
        "# Print the shape of the label tensor\n",
        "print(Y.size())  # Expected output: [1000 instances, 1 label]"
      ]
    },
    {
      "cell_type": "code",
      "execution_count": 3,
      "metadata": {
        "colab": {
          "base_uri": "https://localhost:8080/"
        },
        "id": "AP5rAdq-fn_X",
        "outputId": "182304dd-b051-41b3-9c40-90ec5d60a728"
      },
      "outputs": [
        {
          "name": "stdout",
          "output_type": "stream",
          "text": [
            "Net(\n",
            "  (fc1): Linear(in_features=100, out_features=100, bias=True)\n",
            "  (relu): ReLU()\n",
            "  (dout): Dropout(p=0.2, inplace=False)\n",
            "  (lstm): LSTM(100, 100, batch_first=True)\n",
            "  (fc2): Linear(in_features=100, out_features=100, bias=True)\n",
            "  (out): Linear(in_features=100, out_features=1, bias=True)\n",
            "  (out_act): Sigmoid()\n",
            ")\n"
          ]
        }
      ],
      "source": [
        "# Define the neural network model\n",
        "class Net(nn.Module):  # Inherit from PyTorch's base class for neural networks\n",
        "\n",
        "    def __init__(self, feat_size=100, hidden_size=100, num_labels=1, dropout=0.2, bidirectional=False, feat_representation='mean'):\n",
        "        super().__init__()  # Initialize the base class\n",
        "        # Store the feature representation type (mean or last state)\n",
        "        self.feat_representation = feat_representation\n",
        "        # Store whether the LSTM is bidirectional\n",
        "        self.bidirectional = bidirectional\n",
        "        # Define a fully connected layer to process input features\n",
        "        self.fc1 = nn.Linear(feat_size, feat_size)  # Input and output dimensions are equal to feature size\n",
        "        # Define a ReLU activation function\n",
        "        self.relu = nn.ReLU()  # Applies the ReLU non-linearity\n",
        "        # Define a dropout layer to prevent overfitting\n",
        "        self.dout = nn.Dropout(dropout)  # Dropout probability is specified by the dropout parameter\n",
        "        # Define an LSTM layer for sequential data processing\n",
        "        self.lstm = nn.LSTM(feat_size, hidden_size, batch_first=True, bidirectional=bidirectional)  # Batch-first format ensures input shape is [batch, time, features]\n",
        "        # Calculate the encoding size based on whether the LSTM is bidirectional\n",
        "        encoding_size = hidden_size * 2 if bidirectional else hidden_size\n",
        "        # Define another fully connected layer to process LSTM outputs\n",
        "        self.fc2 = nn.Linear(encoding_size, hidden_size)  # Maps encoding size to hidden size\n",
        "        # Define the output layer for binary classification\n",
        "        self.out = nn.Linear(hidden_size, num_labels)  # Maps hidden size to the number of labels\n",
        "        # Define a sigmoid activation function for output probabilities\n",
        "        self.out_act = nn.Sigmoid()  # Converts logits to probabilities\n",
        "\n",
        "    def forward(self, x):\n",
        "        # Forward pass through the network\n",
        "        # Input shape: [batch, time, features]\n",
        "        h1 = self.fc1(x)  # Apply the first fully connected layer\n",
        "        h1 = self.relu(h1)  # Apply ReLU activation\n",
        "        # Pass the processed features through the LSTM layer\n",
        "        outputs, (final, _) = self.lstm(h1)  # Outputs hidden states and final state from the RNN\n",
        "\n",
        "        if self.feat_representation == 'mean':\n",
        "            # Use the mean of hidden states as the feature representation\n",
        "            outputs = self.dout(outputs)  # Apply dropout to hidden states\n",
        "            h = self.relu(self.fc2(outputs))  # Process hidden states with a fully connected layer and ReLU\n",
        "            h = h.mean(dim=1)  # Take the mean across the time dimension\n",
        "        elif self.feat_representation == 'last_state':\n",
        "            # Use the last hidden state as the feature representation\n",
        "            if self.bidirectional:\n",
        "                # Concatenate forward and backward states for bidirectional LSTM\n",
        "                h_T_fwd = final[0]  # Forward state\n",
        "                h_T_bwd = final[1]  # Backward state\n",
        "                h = torch.cat([h_T_fwd, h_T_bwd], dim=-1)  # Concatenate along the feature dimension\n",
        "            else:\n",
        "                # Use the last state for unidirectional LSTM\n",
        "                h = final[-1]\n",
        "            h = self.relu(self.fc2(h))  # Process the last state with a fully connected layer and ReLU\n",
        "            h = self.dout(h)  # Apply dropout\n",
        "        # Pass the feature representation through the output layer\n",
        "        logits = self.out(h)  # Compute logits\n",
        "        probs = self.out_act(logits)  # Convert logits to probabilities\n",
        "        return logits, probs  # Return both logits and probabilities\n",
        "\n",
        "# Instantiate the model\n",
        "model = Net()  # Use default parameters\n",
        "# Check for available device (e.g., MPS for Apple Silicon)\n",
        "device = torch.device(\"mps\")  # Specify the device\n",
        "model = model.to(device)  # Move the model to the specified device\n",
        "# Print the model architecture\n",
        "print(model)  # Displays the layers and parameters of the model\n",
        "# Define the Adam optimizer\n",
        "opt = optim.Adam(model.parameters(), lr=1e-3)  # Optimizer with learning rate of 0.001\n",
        "# Define the binary cross-entropy loss function with logits\n",
        "criterion = nn.BCEWithLogitsLoss()  # Combines sigmoid activation and binary cross-entropy"
      ]
    },
    {
      "cell_type": "code",
      "execution_count": 4,
      "metadata": {
        "colab": {
          "base_uri": "https://localhost:8080/",
          "height": 447
        },
        "id": "NFJPqMFDhXvj",
        "outputId": "338a93f4-58de-4ae2-dbe7-5b606da111d8"
      },
      "outputs": [
        {
          "name": "stderr",
          "output_type": "stream",
          "text": [
            "/var/folders/b0/z48bvg0x3xj1q1ftpd_w4mb00000gn/T/ipykernel_82706/3911996130.py:22: UserWarning: Converting a tensor with requires_grad=True to a scalar may lead to unexpected behavior.\n",
            "Consider using tensor.detach() first. (Triggered internally at /Users/runner/work/pytorch/pytorch/pytorch/aten/src/ATen/native/Scalar.cpp:23.)\n",
            "  loss_batch.append(loss.item())  # Save the loss value\n"
          ]
        },
        {
          "data": {
            "text/plain": [
              "[<matplotlib.lines.Line2D at 0x358775810>]"
            ]
          },
          "execution_count": 4,
          "metadata": {},
          "output_type": "execute_result"
        },
        {
          "data": {
            "image/png": "[encoded data removed]",
            "text/plain": [
              "<Figure size 640x480 with 1 Axes>"
            ]
          },
          "metadata": {},
          "output_type": "display_data"
        }
      ],
      "source": [
        "# Define hyperparameters for training\n",
        "e_losses = []  # List to store epoch losses\n",
        "num_epochs = 20  # Number of training epochs\n",
        "batch_size = 64  # Number of instances per batch\n",
        "\n",
        "# Training loop\n",
        "for e in range(num_epochs):  # Iterate over epochs\n",
        "    model.train()  # Set the model to training mode\n",
        "    loss_batch = []  # List to store batch losses\n",
        "    for beg_i in range(0, X.size(0), batch_size):  # Iterate over batches\n",
        "        # Extract a batch of input data\n",
        "        x_batch = X[beg_i:beg_i + batch_size, :]  # Select instances for the current batch\n",
        "        y_batch = Y[beg_i:beg_i + batch_size, :]  # Select labels for the current batch\n",
        "        x_batch = x_batch.to(device)  # Move input data to the device\n",
        "        y_batch = y_batch.to(device)  # Move labels to the device\n",
        "\n",
        "        opt.zero_grad()  # Reset gradients to zero\n",
        "        # Forward pass through the model\n",
        "        y_logits, y_probs = model(x_batch)  # Compute logits and probabilities\n",
        "        # Compute the loss for the batch\n",
        "        loss = criterion(y_logits, y_batch)  # Binary cross-entropy loss\n",
        "        loss_batch.append(loss.item())  # Save the loss value\n",
        "        # Backward pass to compute gradients\n",
        "        loss.backward()  # Compute gradients for all parameters\n",
        "        # Update model parameters\n",
        "        opt.step()  # Apply the optimizer step\n",
        "\n",
        "    e_losses += loss_batch  # Append batch losses to epoch losses\n",
        "# Plot the loss over epochs\n",
        "plt.plot(e_losses)  # Visualize the training loss"
      ]
    },
    {
      "cell_type": "code",
      "execution_count": 5,
      "metadata": {
        "colab": {
          "base_uri": "https://localhost:8080/"
        },
        "id": "qOqlotxYkHxQ",
        "outputId": "37b03b17-6cc3-46da-a67d-36fa8a78098f"
      },
      "outputs": [
        {
          "name": "stdout",
          "output_type": "stream",
          "text": [
            "0.0002206692297477275\n",
            "0.9999586343765259\n"
          ]
        }
      ],
      "source": [
        "# Make predictions with the trained model\n",
        "x_t = torch.randn(1, 5000, 100)  # Generate a random test instance\n",
        "x_t = x_t.to(device)  # Move the test instance to the device\n",
        "\n",
        "model.eval()  # Set the model to evaluation mode\n",
        "y_logit, y_prob = model(x_t)  # Compute logits and probabilities for the test instance\n",
        "print(y_prob.item())  # Print the predicted probability\n",
        "x_1_t = torch.randn(1, 5000, 100) + 1.5  # Generate another test instance with shifted values\n",
        "x_1_t = x_1_t.to(device)  # Move the second test instance to the device\n",
        "y1_logit, y1_prob = model(x_1_t)  # Compute logits and probabilities for the second test instance\n",
        "print(y1_prob.item())  # Print the predicted probability for the second instance"
      ]
    },
    {
      "cell_type": "markdown",
      "metadata": {
        "id": "_19uyVjK9Bml"
      },
      "source": [
        "# TODO\n",
        "\n",
        "Make a new section for each new model NetLast(), NetBiLSTM(), NetDropout()....\n",
        "\n",
        "- Try different feature representations: last state and bidirectional LSTM\n",
        "- Try different feature sizes, and dropout [0.1, 0.5, 0.8]\n",
        "- Try different non-linearities: sigmoid, tanh\n",
        "- Use a GRU instead of LSTM: [GRU PyTorch](https://pytorch.org/docs/stable/generated/torch.nn.GRU.html)\n",
        "- What if we predict a sequence instead of classification?\n",
        "```python\n",
        "# [N, T, F] number of instances, time, features\n",
        "X1 = torch.randn(1000, 48, 50)\n",
        "X2 = torch.randn(1000, 48, 50) + 1.5\n",
        "X = torch.cat([X1, X2], dim=0)\n",
        "mask = torch.cuda.FloatTensor(2000, 48, 1).uniform_() > 0.8\n",
        "Y1 = torch.zeros(1000, 1)\n",
        "Y2 = torch.ones(1000, 1)\n",
        "# [B, 1]\n",
        "Y_mean = torch.cat([Y1, Y2], dim=0)\n",
        "# [B, T, 1]\n",
        "Y_seq = Y_mean.unsqueeze(1).repeat(1, 48, 1)\n",
        "# [N, F] instances, time, features\n",
        "print(X.size())\n",
        "# [N, 1] instances, label [0,1]\n",
        "print(Y_seq.size())\n",
        "# print(Y_mean.size())\n",
        "print(mask.size())\n",
        "# In model\n",
        "def forward(self, x):\n",
        "    #...\n",
        "    # [B, T, H]\n",
        "    # h_mean = h_time.mean(1)\n",
        "    # [B, T, H] logits is a seq\n",
        "    # logits_mean = self.out_mean(h_mean)\n",
        "    return logits_seq\n",
        "# Criterion\n",
        "criterion = nn.BCEWithLogitsLoss(reduction='none')\n",
        "# [B, 1] mean (0)\n",
        "# Loss\n",
        "# [B, T, 1]\n",
        "loss_seq = loss_seq * x_mask\n",
        "loss_seq = loss_seq.sum(1)\n",
        "loss_seq = loss_seq.mean(0)\n",
        "```\n",
        "- Change BCE logits to probs https://pytorch.org/docs/stable/generated/torch.nn.BCELoss.html"
      ]
    }
  ],
  "metadata": {
    "accelerator": "GPU",
    "colab": {
      "provenance": []
    },
    "kernelspec": {
      "display_name": "Python 3",
      "name": "python3"
    },
    "language_info": {
      "codemirror_mode": {
        "name": "ipython",
        "version": 3
      },
      "file_extension": ".py",
      "mimetype": "text/x-python",
      "name": "python",
      "nbconvert_exporter": "python",
      "pygments_lexer": "ipython3",
      "version": "3.11.11"
    }
  },
  "nbformat": 4,
  "nbformat_minor": 0
}
